{
 "cells": [
  {
   "cell_type": "markdown",
   "metadata": {},
   "source": [
    "### Implementing simple Chatbot Using LangGraph"
   ]
  },
  {
   "cell_type": "code",
   "execution_count": 1,
   "metadata": {},
   "outputs": [],
   "source": [
    "from typing_extensions import TypedDict\n",
    "\n",
    "from langgraph.graph import StateGraph, START, END\n",
    "\n",
    "## Reducers\n",
    "from typing import Annotated\n",
    "from langgraph.graph.message import add_messages"
   ]
  },
  {
   "cell_type": "code",
   "execution_count": 2,
   "metadata": {},
   "outputs": [],
   "source": [
    "class State(TypedDict):\n",
    "    messages:Annotated[list,add_messages]"
   ]
  },
  {
   "cell_type": "code",
   "execution_count": 3,
   "metadata": {},
   "outputs": [],
   "source": [
    "import os\n",
    "from dotenv import load_dotenv\n",
    "load_dotenv()\n",
    "\n",
    "os.environ[\"OPENAI_API_KEY\"]=os.getenv(\"OPENAI_API_KEY\")\n",
    "os.environ[\"GROQ_API_KEY\"]=os.getenv(\"GROQ_API_KEY\")\n"
   ]
  },
  {
   "cell_type": "code",
   "execution_count": 4,
   "metadata": {},
   "outputs": [
    {
     "data": {
      "text/plain": [
       "AIMessage(content='Hello! How can I assist you today?', additional_kwargs={'refusal': None}, response_metadata={'token_usage': {'completion_tokens': 9, 'prompt_tokens': 8, 'total_tokens': 17, 'completion_tokens_details': {'accepted_prediction_tokens': 0, 'audio_tokens': 0, 'reasoning_tokens': 0, 'rejected_prediction_tokens': 0}, 'prompt_tokens_details': {'audio_tokens': 0, 'cached_tokens': 0}}, 'model_name': 'gpt-4o-2024-08-06', 'system_fingerprint': 'fp_a288987b44', 'id': 'chatcmpl-BePlttHDgJoJBPmwuSLGsjMoeVWxy', 'service_tier': 'default', 'finish_reason': 'stop', 'logprobs': None}, id='run--bc467ba0-5cc2-4fe7-9b08-9697b9957134-0', usage_metadata={'input_tokens': 8, 'output_tokens': 9, 'total_tokens': 17, 'input_token_details': {'audio': 0, 'cache_read': 0}, 'output_token_details': {'audio': 0, 'reasoning': 0}})"
      ]
     },
     "execution_count": 4,
     "metadata": {},
     "output_type": "execute_result"
    }
   ],
   "source": [
    "from langchain_openai import ChatOpenAI\n",
    "llm=ChatOpenAI(model=\"gpt-4o\")\n",
    "llm.invoke(\"Hello\")"
   ]
  },
  {
   "cell_type": "code",
   "execution_count": 6,
   "metadata": {},
   "outputs": [
    {
     "data": {
      "text/plain": [
       "AIMessage(content=\"\\n<think>\\nOkay, the user is Krish and mentions liking to play cricket. Let me start by greeting him and showing enthusiasm. Maybe ask what position he plays, since that's a common topic among cricket fans. I should also mention some popular cricket leagues or teams to connect with him. Wait, should I ask about his favorite team or player? That could lead to a good conversation. Also, maybe mention a recent cricket event or tournament to make it current. Need to keep it friendly and open-ended so he feels comfortable sharing more. Let me check if I got all that. Yep, positions, teams, recent events. Alright, time to put that into a response.\\n</think>\\n\\nHey Krish! That's awesome—I love cricket too! What position do you play? And do you have a favorite cricket team or player? Also, have you been watching any of the recent matches? Let's chat about it! 🏏\", additional_kwargs={}, response_metadata={'token_usage': {'completion_tokens': 185, 'prompt_tokens': 20, 'total_tokens': 205, 'completion_time': 0.455473483, 'prompt_time': 0.003108071, 'queue_time': 0.260581958, 'total_time': 0.458581554}, 'model_name': 'qwen-qwq-32b', 'system_fingerprint': 'fp_1e88ca32eb', 'finish_reason': 'stop', 'logprobs': None}, id='run--78a20071-64b2-421f-aa18-fc6d66a6e85c-0', usage_metadata={'input_tokens': 20, 'output_tokens': 185, 'total_tokens': 205})"
      ]
     },
     "execution_count": 6,
     "metadata": {},
     "output_type": "execute_result"
    }
   ],
   "source": [
    "from langchain_groq import ChatGroq\n",
    "\n",
    "llm_groq=ChatGroq(model=\"qwen-qwq-32b\")\n",
    "llm_groq.invoke(\"Hey I am Krish and i like to play cricket\")"
   ]
  },
  {
   "cell_type": "markdown",
   "metadata": {},
   "source": [
    "### We Will start With Creating Nodes"
   ]
  },
  {
   "cell_type": "code",
   "execution_count": 7,
   "metadata": {},
   "outputs": [],
   "source": [
    "def superbot(state:State):\n",
    "    return {\"messages\":[llm_groq.invoke(state['messages'])]}"
   ]
  },
  {
   "cell_type": "code",
   "execution_count": 8,
   "metadata": {},
   "outputs": [
    {
     "data": {
      "image/png": "[encoded data removed]",
      "text/plain": [
       "<IPython.core.display.Image object>"
      ]
     },
     "metadata": {},
     "output_type": "display_data"
    }
   ],
   "source": [
    "graph=StateGraph(State)\n",
    "\n",
    "## node\n",
    "graph.add_node(\"SuperBot\",superbot)\n",
    "## Edges\n",
    "\n",
    "graph.add_edge(START,\"SuperBot\")\n",
    "graph.add_edge(\"SuperBot\",END)\n",
    "\n",
    "\n",
    "graph_builder=graph.compile()\n",
    "\n",
    "\n",
    "## Display\n",
    "from IPython.display import Image, display\n",
    "display(Image(graph_builder.get_graph().draw_mermaid_png()))"
   ]
  },
  {
   "cell_type": "code",
   "execution_count": 9,
   "metadata": {},
   "outputs": [
    {
     "data": {
      "text/plain": [
       "{'messages': [HumanMessage(content='Hi,My name is Krish And I like cricket', additional_kwargs={}, response_metadata={}, id='d052daed-cea5-41b9-b785-f0bcc27d6c6f'),\n",
       "  AIMessage(content=\"\\n<think>\\nOkay, the user introduced themselves as Krish and mentioned they like cricket. I should respond in a friendly and welcoming way. Let me start by greeting them back and acknowledging their name and interest. Maybe I can ask them a follow-up question about cricket to keep the conversation going. I should make sure my tone is positive and approachable. Let me check if there's anything else I need to consider here. No, that seems straightforward. I'll make sure to use proper grammar and keep it concise.\\n</think>\\n\\nHello Krish! Nice to meet you. That's a great interest—cricket is such a thrilling sport! Do you have a favorite team or player? 🏏\", additional_kwargs={}, response_metadata={'token_usage': {'completion_tokens': 137, 'prompt_tokens': 20, 'total_tokens': 157, 'completion_time': 0.338681803, 'prompt_time': 0.003108019, 'queue_time': 0.27167462, 'total_time': 0.341789822}, 'model_name': 'qwen-qwq-32b', 'system_fingerprint': 'fp_512a3da6bb', 'finish_reason': 'stop', 'logprobs': None}, id='run--3c899c3d-d49c-4e45-ac19-482a10da7a30-0', usage_metadata={'input_tokens': 20, 'output_tokens': 137, 'total_tokens': 157})]}"
      ]
     },
     "execution_count": 9,
     "metadata": {},
     "output_type": "execute_result"
    }
   ],
   "source": [
    "## Invocation\n",
    "\n",
    "graph_builder.invoke({'messages':\"Hi,My name is Krish And I like cricket\"})"
   ]
  },
  {
   "cell_type": "markdown",
   "metadata": {},
   "source": [
    "#### Streaming The responses"
   ]
  },
  {
   "cell_type": "code",
   "execution_count": 10,
   "metadata": {},
   "outputs": [
    {
     "name": "stdout",
     "output_type": "stream",
     "text": [
      "{'SuperBot': {'messages': [AIMessage(content='\\n<think>\\nOkay, the user said \"Hello My name is KRish\". I need to respond appropriately. Let me start with a friendly greeting. Maybe say hello back and mention their name. I should make sure to get the name right. They wrote \"KRish\" with capital letters, maybe it\\'s how they prefer it spelled.\\n\\nI should ask how I can assist them today. Keep it open-ended so they can mention whatever they need help with. Maybe add an emoji to keep it friendly. Let me check for any possible typos in my response. Alright, that should be good. Let me put it all together.\\n</think>\\n\\nHello Krish! Nice to meet you. How can I assist you today? 😊', additional_kwargs={}, response_metadata={'token_usage': {'completion_tokens': 144, 'prompt_tokens': 16, 'total_tokens': 160, 'completion_time': 0.355020722, 'prompt_time': 0.003114132, 'queue_time': 0.259420308, 'total_time': 0.358134854}, 'model_name': 'qwen-qwq-32b', 'system_fingerprint': 'fp_1e88ca32eb', 'finish_reason': 'stop', 'logprobs': None}, id='run--cce929f7-4912-4436-8a16-3809a909e371-0', usage_metadata={'input_tokens': 16, 'output_tokens': 144, 'total_tokens': 160})]}}\n"
     ]
    }
   ],
   "source": [
    "for event in graph_builder.stream({\"messages\":\"Hello My name is KRish\"}):\n",
    "    print(event)"
   ]
  },
  {
   "cell_type": "code",
   "execution_count": null,
   "metadata": {},
   "outputs": [],
   "source": []
  }
 ],
 "metadata": {
  "kernelspec": {
   "display_name": "Python 3",
   "language": "python",
   "name": "python3"
  },
  "language_info": {
   "codemirror_mode": {
    "name": "ipython",
    "version": 3
   },
   "file_extension": ".py",
   "mimetype": "text/x-python",
   "name": "python",
   "nbconvert_exporter": "python",
   "pygments_lexer": "ipython3",
   "version": "3.12.0"
  }
 },
 "nbformat": 4,
 "nbformat_minor": 2
}
