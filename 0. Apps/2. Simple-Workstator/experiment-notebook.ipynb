{
 "cells": [
  {
   "cell_type": "code",
   "execution_count": 1,
   "id": "342ead82",
   "metadata": {},
   "outputs": [],
   "source": [
    "from langchain_groq import ChatGroq\n",
    "from langchain_tavily import TavilySearch\n",
    "from langchain_core.prompts import PromptTemplate\n",
    "from pydantic import BaseModel, Field\n",
    "from typing import TypedDict, Annotated\n",
    "import faiss\n",
    "from langchain_community.vectorstores import FAISS"
   ]
  },
  {
   "cell_type": "markdown",
   "id": "1baaf8d6",
   "metadata": {},
   "source": [
    "## **Prepare vector Store and Sentence embedding**"
   ]
  },
  {
   "cell_type": "code",
   "execution_count": 2,
   "id": "6644c15b",
   "metadata": {},
   "outputs": [
    {
     "data": {
      "text/plain": [
       "15"
      ]
     },
     "execution_count": 2,
     "metadata": {},
     "output_type": "execute_result"
    }
   ],
   "source": [
    "from langchain_community.document_loaders import PyPDFLoader\n",
    "\n",
    "loader = PyPDFLoader(\"data/attentation-all-you-need.pdf\")\n",
    "docs = loader.load()\n",
    "len(docs)"
   ]
  },
  {
   "cell_type": "code",
   "execution_count": 3,
   "id": "f8c45a5b",
   "metadata": {},
   "outputs": [
    {
     "data": {
      "text/plain": [
       "96"
      ]
     },
     "execution_count": 3,
     "metadata": {},
     "output_type": "execute_result"
    }
   ],
   "source": [
    "from langchain_text_splitters import RecursiveCharacterTextSplitter\n",
    "\n",
    "splitter = RecursiveCharacterTextSplitter(\n",
    "    chunk_size = 500,\n",
    "    chunk_overlap = 80\n",
    ")\n",
    "\n",
    "documents = splitter.split_documents(documents=docs)\n",
    "len(documents)"
   ]
  },
  {
   "cell_type": "code",
   "execution_count": 4,
   "id": "cc2dd46e",
   "metadata": {},
   "outputs": [
    {
     "data": {
      "text/plain": [
       "Document(metadata={'producer': 'pdfTeX-1.40.25', 'creator': 'LaTeX with hyperref', 'creationdate': '2024-04-10T21:11:43+00:00', 'author': '', 'keywords': '', 'moddate': '2024-04-10T21:11:43+00:00', 'ptex.fullbanner': 'This is pdfTeX, Version 3.141592653-2.6-1.40.25 (TeX Live 2023) kpathsea version 6.3.5', 'subject': '', 'title': '', 'trapped': '/False', 'source': 'data/attentation-all-you-need.pdf', 'total_pages': 15, 'page': 0, 'page_label': '1'}, page_content='detail. Niki designed, implemented, tuned and evaluated countless model variants in our original codebase and\\ntensor2tensor. Llion also experimented with novel model variants, was responsible for our initial codebase, and\\nefficient inference and visualizations. Lukasz and Aidan spent countless long days designing various parts of and\\nimplementing tensor2tensor, replacing our earlier codebase, greatly improving results and massively accelerating\\nour research.')"
      ]
     },
     "execution_count": 4,
     "metadata": {},
     "output_type": "execute_result"
    }
   ],
   "source": [
    "documents[5]"
   ]
  },
  {
   "cell_type": "code",
   "execution_count": 5,
   "id": "a2ca5d67",
   "metadata": {},
   "outputs": [
    {
     "name": "stderr",
     "output_type": "stream",
     "text": [
      "/Users/murtazanaiyar/Desktop/Github@MN/AgenticAi/venv/lib/python3.12/site-packages/tqdm/auto.py:21: TqdmWarning: IProgress not found. Please update jupyter and ipywidgets. See https://ipywidgets.readthedocs.io/en/stable/user_install.html\n",
      "  from .autonotebook import tqdm as notebook_tqdm\n"
     ]
    }
   ],
   "source": [
    "from dotenv import load_dotenv\n",
    "import os\n",
    "load_dotenv()\n",
    "from langchain_groq import ChatGroq\n",
    "\n",
    "os.environ[\"HF_TOKEN\"] = os.getenv(\"HF_TOKEN\")\n",
    "os.environ[\"GROQ_API_KEY\"] = os.getenv(\"GROQ_API_KEY\")\n",
    "\n",
    "from langchain_huggingface import HuggingFaceEmbeddings\n",
    "\n",
    "embeddings = HuggingFaceEmbeddings(model_name=\"sentence-transformers/all-mpnet-base-v2\")\n",
    "llm = ChatGroq(model=\"meta-llama/llama-4-scout-17b-16e-instruct\")"
   ]
  },
  {
   "cell_type": "code",
   "execution_count": 6,
   "id": "e02ac8ac",
   "metadata": {},
   "outputs": [
    {
     "data": {
      "text/plain": [
       "768"
      ]
     },
     "execution_count": 6,
     "metadata": {},
     "output_type": "execute_result"
    }
   ],
   "source": [
    "len(embeddings.embed_query(\"hello\"))"
   ]
  },
  {
   "cell_type": "code",
   "execution_count": 7,
   "id": "7dd6af1e",
   "metadata": {},
   "outputs": [],
   "source": [
    "index = faiss.IndexFlatIP(768)"
   ]
  },
  {
   "cell_type": "code",
   "execution_count": 8,
   "id": "d03d55b5",
   "metadata": {},
   "outputs": [],
   "source": [
    "from langchain_community.docstore.in_memory import InMemoryDocstore"
   ]
  },
  {
   "cell_type": "code",
   "execution_count": null,
   "id": "ec7ca726",
   "metadata": {},
   "outputs": [
    {
     "ename": "",
     "evalue": "",
     "output_type": "error",
     "traceback": [
      "\u001b[1;31mThe Kernel crashed while executing code in the current cell or a previous cell. \n",
      "\u001b[1;31mPlease review the code in the cell(s) to identify a possible cause of the failure. \n",
      "\u001b[1;31mClick <a href='https://aka.ms/vscodeJupyterKernelCrash'>here</a> for more info. \n",
      "\u001b[1;31mView Jupyter <a href='command:jupyter.viewOutput'>log</a> for further details."
     ]
    }
   ],
   "source": [
    "vector_store = FAISS(\n",
    " embedding_function=embeddings,\n",
    " index=index,\n",
    " docstore=InMemoryDocstore(),\n",
    " index_to_docstore_id={}\n",
    ")"
   ]
  },
  {
   "cell_type": "code",
   "execution_count": null,
   "id": "e315f8ac",
   "metadata": {},
   "outputs": [],
   "source": [
    "vector_store.add_documents(documents=documents)"
   ]
  },
  {
   "cell_type": "code",
   "execution_count": null,
   "id": "4730819f",
   "metadata": {},
   "outputs": [],
   "source": [
    "vector_store.similarity_search(query=\"What is autoregressive?\")"
   ]
  },
  {
   "cell_type": "code",
   "execution_count": null,
   "id": "4eb50a3e",
   "metadata": {},
   "outputs": [],
   "source": [
    "retriever = vector_store.as_retriever(\n",
    "    search_type = \"similarity\",\n",
    "    search_kwargs={\n",
    "        \"k\": 3\n",
    "    }\n",
    ")"
   ]
  },
  {
   "cell_type": "code",
   "execution_count": null,
   "id": "09f594bf",
   "metadata": {},
   "outputs": [],
   "source": [
    "retriever.invoke(\"What is autoregressive?\")"
   ]
  },
  {
   "cell_type": "code",
   "execution_count": null,
   "id": "db9b20eb",
   "metadata": {},
   "outputs": [],
   "source": [
    "from langchain_core.output_parsers import StrOutputParser\n",
    "from langchain import hub\n",
    "\n",
    "prompt = hub.pull(\"rlm/rag-prompt\")\n",
    "prompt.messages[0]"
   ]
  },
  {
   "cell_type": "code",
   "execution_count": null,
   "id": "d65fc821",
   "metadata": {},
   "outputs": [],
   "source": [
    "from langchain_core.runnables import RunnablePassthrough\n",
    "\n",
    "def format_docs(retriever_docs):\n",
    "    context_text = \"\\n\\n\".join(doc.page_content for doc in retriever_docs)\n",
    "    return context_text"
   ]
  },
  {
   "cell_type": "code",
   "execution_count": null,
   "id": "12c6bb04",
   "metadata": {},
   "outputs": [],
   "source": [
    "rag_chain = (\n",
    "    {\n",
    "        \"context\": retriever | format_docs,\n",
    "        \"question\": RunnablePassthrough()\n",
    "    }\n",
    "    | prompt\n",
    "    | llm\n",
    "    | StrOutputParser()\n",
    ")"
   ]
  },
  {
   "cell_type": "code",
   "execution_count": null,
   "id": "88f4bc39",
   "metadata": {},
   "outputs": [],
   "source": [
    "from IPython.display import display, Image\n",
    "display(Image(rag_chain.get_graph().draw_mermaid_png()))"
   ]
  },
  {
   "cell_type": "markdown",
   "id": "aff9d3eb",
   "metadata": {},
   "source": [
    "# ***Time to build Workstation***"
   ]
  },
  {
   "cell_type": "code",
   "execution_count": 9,
   "id": "e8deb913",
   "metadata": {},
   "outputs": [],
   "source": [
    "from typing import Literal"
   ]
  },
  {
   "cell_type": "code",
   "execution_count": 10,
   "id": "7932ab06",
   "metadata": {},
   "outputs": [],
   "source": [
    "class SelectPath(BaseModel):\n",
    "    path: Annotated[Literal[\"LLM_CALL\", \"RAG_CALL\", \"INTERNET_SEARCH\"], Field(description=\"Based on the user query select one path only. if user want to know about the Attention all you need paper or any query related to the Transformer then select the Rag call. if user want to know basics question the select llm call and finally user want to know about recent info then select the internet search.\")]\n",
    "    reason: Annotated[str, Field(description=\"Why you select a specific path give reason in one sentence.\")]"
   ]
  },
  {
   "cell_type": "code",
   "execution_count": 11,
   "id": "1d343695",
   "metadata": {},
   "outputs": [],
   "source": [
    "from langchain_core.output_parsers import PydanticOutputParser\n",
    "\n",
    "parser = PydanticOutputParser(pydantic_object=SelectPath)"
   ]
  },
  {
   "cell_type": "code",
   "execution_count": 12,
   "id": "be7bc521",
   "metadata": {},
   "outputs": [],
   "source": [
    "path_prompt = PromptTemplate(\n",
    "    template=\"\"\"\n",
    "    Think step by step on user query. The user query: {question}\\n\\n My vector store is related of Transformer paper as the paper name is *attention all you need* so if you think like user query is related to this paper then select the 'RAG_CALL'. Or user want to know about the latest news or any info the you select the 'INTERNET_SEARCH'. Finally if user want to know basics question such as wants know ML, DL, NLP, or any basics question if you think llm model can capable to give sold and correct answer then select the 'LLM_CALL'. you have to follow this format instruction.\\n\\n{format_instruction}.\n",
    "    \"\"\",\n",
    "    input_variables=[\"question\"],\n",
    "    partial_variables={\n",
    "        \"format_instruction\": parser.get_format_instructions()\n",
    "    }\n",
    ")"
   ]
  },
  {
   "cell_type": "code",
   "execution_count": 13,
   "id": "07233fbb",
   "metadata": {},
   "outputs": [
    {
     "data": {
      "text/plain": [
       "PromptTemplate(input_variables=['question'], input_types={}, partial_variables={'format_instruction': 'The output should be formatted as a JSON instance that conforms to the JSON schema below.\\n\\nAs an example, for the schema {\"properties\": {\"foo\": {\"title\": \"Foo\", \"description\": \"a list of strings\", \"type\": \"array\", \"items\": {\"type\": \"string\"}}}, \"required\": [\"foo\"]}\\nthe object {\"foo\": [\"bar\", \"baz\"]} is a well-formatted instance of the schema. The object {\"properties\": {\"foo\": [\"bar\", \"baz\"]}} is not well-formatted.\\n\\nHere is the output schema:\\n```\\n{\"properties\": {\"path\": {\"description\": \"Based on the user query select one path only. if user want to know about the Attention all you need paper or any query related to the Transformer then select the Rag call. if user want to know basics question the select llm call and finally user want to know about recent info then select the internet search.\", \"enum\": [\"LLM_CALL\", \"RAG_CALL\", \"INTERNET_SEARCH\"], \"title\": \"Path\", \"type\": \"string\"}, \"reason\": {\"description\": \"Why you select a specific path give reason in one sentence.\", \"title\": \"Reason\", \"type\": \"string\"}}, \"required\": [\"path\", \"reason\"]}\\n```'}, template=\"\\n    Think step by step on user query. The user query: {question}\\n\\n My vector store is related of Transformer paper as the paper name is *attention all you need* so if you think like user query is related to this paper then select the 'RAG_CALL'. Or user want to know about the latest news or any info the you select the 'INTERNET_SEARCH'. Finally if user want to know basics question such as wants know ML, DL, NLP, or any basics question if you think llm model can capable to give sold and correct answer then select the 'LLM_CALL'. you have to follow this format instruction.\\n\\n{format_instruction}.\\n    \")"
      ]
     },
     "execution_count": 13,
     "metadata": {},
     "output_type": "execute_result"
    }
   ],
   "source": [
    "path_prompt"
   ]
  },
  {
   "cell_type": "code",
   "execution_count": 14,
   "id": "3a1ccafb",
   "metadata": {},
   "outputs": [],
   "source": [
    "test_chain = path_prompt | llm | parser"
   ]
  },
  {
   "cell_type": "code",
   "execution_count": 15,
   "id": "476141ba",
   "metadata": {},
   "outputs": [
    {
     "name": "stderr",
     "output_type": "stream",
     "text": [
      "huggingface/tokenizers: The current process just got forked, after parallelism has already been used. Disabling parallelism to avoid deadlocks...\n",
      "To disable this warning, you can either:\n",
      "\t- Avoid using `tokenizers` before the fork if possible\n",
      "\t- Explicitly set the environment variable TOKENIZERS_PARALLELISM=(true | false)\n"
     ]
    },
    {
     "data": {
      "text/plain": [
       "SelectPath(path='RAG_CALL', reason=\"The query about positional embeddings directly relates to the Transformer model, which was introduced in the paper 'Attention Is All You Need'.\")"
      ]
     },
     "execution_count": 15,
     "metadata": {},
     "output_type": "execute_result"
    }
   ],
   "source": [
    "test_chain.invoke(\"What is positional embeddings?\")"
   ]
  },
  {
   "cell_type": "code",
   "execution_count": 16,
   "id": "0439728f",
   "metadata": {},
   "outputs": [
    {
     "data": {
      "text/plain": [
       "SelectPath(path='INTERNET_SEARCH', reason='The user query is about obtaining current and specific information (weather in Dhaka), which is best fulfilled by searching the internet for the latest data.')"
      ]
     },
     "execution_count": 16,
     "metadata": {},
     "output_type": "execute_result"
    }
   ],
   "source": [
    "test_chain.invoke(\"What is the weather today in Dhaka?\")"
   ]
  },
  {
   "cell_type": "code",
   "execution_count": 17,
   "id": "e0576b4f",
   "metadata": {},
   "outputs": [
    {
     "data": {
      "text/plain": [
       "('LLM_CALL',\n",
       " \"The user is seeking a general understanding of why they need to learn Agentic AI, which can be addressed through a Large Language Model's knowledge base.\")"
      ]
     },
     "execution_count": 17,
     "metadata": {},
     "output_type": "execute_result"
    }
   ],
   "source": [
    "response = test_chain.invoke(\"Why i need to learn Agentic AI?\")\n",
    "response.path, response.reason"
   ]
  },
  {
   "cell_type": "markdown",
   "id": "0ea3a69f",
   "metadata": {},
   "source": [
    "## **Internet Search Pipeline Setup**"
   ]
  },
  {
   "cell_type": "code",
   "execution_count": 18,
   "id": "7c0b6c17",
   "metadata": {},
   "outputs": [
    {
     "data": {
      "text/plain": [
       "{'query': 'Capital of bangladesh',\n",
       " 'follow_up_questions': None,\n",
       " 'answer': None,\n",
       " 'images': [],\n",
       " 'results': [{'title': 'What Is The Capital Of Bangladesh? - WorldAtlas',\n",
       "   'url': 'https://www.worldatlas.com/articles/what-is-the-capital-of-bangladesh.html',\n",
       "   'content': 'Learn about the history, geography, and culture of Dhaka, the largest and most populous city in Bangladesh. Find out how Dhaka became the capital of Bangladesh in 1971 and what makes it a unique and diverse city.',\n",
       "   'score': 0.8576849,\n",
       "   'raw_content': None},\n",
       "  {'title': 'Dhaka - Wikipedia',\n",
       "   'url': 'https://en.wikipedia.org/wiki/Dhaka',\n",
       "   'content': '| [1] | | Region | Southern Asia | | Notability | The Representative List of the \"Intangible Cultural Heritage of Humanity\" category | | | | | Dhaka (/ˈ d ɑː k ə/DAH-kə or /ˈ d æ k ə/DAK-ə; Bengali: ঢাকা, romanized:Ḍhākā, pronounced[ˈɖʱaka]ⓘ), formerly known asDacca,[20] is the capital and largest city of Bangladesh. It is one of the largest[a] and most densely populated cities[b] in the world with a density of about 34,000 people per square kilometer within a total area of approximately 300 square kilometers. [25][26] Dhaka is an important cultural, economic, and scientific hub of Eastern South Asia, as well as a major Muslim-majority city. Dhaka is also the largest Bengali-speaking city in the world.',\n",
       "   'score': 0.8020137,\n",
       "   'raw_content': None},\n",
       "  {'title': 'Bangladesh | History, Capital, Map, Flag, Population, Pronunciation ...',\n",
       "   'url': 'https://www.britannica.com/place/Bangladesh',\n",
       "   'content': 'Bangladesh, country of South Asia, located in the delta of the Padma (Ganges [Ganga]) and Jamuna (Brahmaputra) rivers in the northeastern part of the Indian subcontinent. In the northeast and southeast—in the Sylhet and Chittagong Hills areas, respectively—the alluvial plains give place to ridges, running mainly north-south, that form part of the mountains that separate Bangladesh from Myanmar and India. In east-central Bangladesh the Brahmaputra River in its old course (the Old Brahmaputra River) built up the flood basin of the Meghna River, the region that includes the low and fertile Meghna-Sitalakhya Doab (the land area between those rivers). Lying to the south of the Feni River in southeastern Bangladesh is the Chittagong region, which has many hills, hillocks, valleys, and forests and is quite different in aspect from other parts of the country.',\n",
       "   'score': 0.53094244,\n",
       "   'raw_content': None}],\n",
       " 'response_time': 2.0}"
      ]
     },
     "execution_count": 18,
     "metadata": {},
     "output_type": "execute_result"
    }
   ],
   "source": [
    "os.environ[\"TAVILY_API_KEY\"] = os.getenv(\"TAVILY_API_KEY\")\n",
    "\n",
    "tavily_search = TavilySearch(\n",
    "    max_results=3,\n",
    "    topic=\"general\"\n",
    ")\n",
    "\n",
    "tavily_search.invoke(\"Capital of bangladesh\")"
   ]
  },
  {
   "cell_type": "markdown",
   "id": "ae048dbd",
   "metadata": {},
   "source": [
    "### *Create Agent State*"
   ]
  },
  {
   "cell_type": "code",
   "execution_count": 19,
   "id": "98e9c62c",
   "metadata": {},
   "outputs": [],
   "source": [
    "from typing import TypedDict, Sequence\n",
    "from langchain_core.messages import BaseMessage\n",
    "import operator\n",
    "\n",
    "class State(TypedDict):\n",
    "    \"\"\"This is is my graph state where store all conversations.\"\"\"\n",
    "    messages: Annotated[Sequence[BaseMessage], operator.add]"
   ]
  },
  {
   "cell_type": "markdown",
   "id": "a4a16355",
   "metadata": {},
   "source": [
    "## **Start to build the Graph Node**"
   ]
  },
  {
   "cell_type": "code",
   "execution_count": 20,
   "id": "739d1367",
   "metadata": {},
   "outputs": [],
   "source": [
    "## Supervisor node\n",
    "def supervisor(state: State):\n",
    "    \"\"\"This node is responsible for to select the correct path based on the user query.\"\"\"\n",
    "    question = state['messages'][-1]\n",
    "    print(question)\n",
    "    chain = path_prompt | llm | parser\n",
    "    response = chain.invoke(question)\n",
    "    print(response.path, response.reason)\n",
    "    \n",
    "    return {\n",
    "        \"messages\": [response.path]\n",
    "    }"
   ]
  },
  {
   "cell_type": "code",
   "execution_count": 21,
   "id": "6b93c7b6",
   "metadata": {},
   "outputs": [
    {
     "name": "stdout",
     "output_type": "stream",
     "text": [
      "What is key and value vector?\n",
      "RAG_CALL The user query is related to key and value vectors, which are concepts from the Transformer paper 'Attention Is All You Need'.\n"
     ]
    },
    {
     "data": {
      "text/plain": [
       "{'messages': ['RAG_CALL']}"
      ]
     },
     "execution_count": 21,
     "metadata": {},
     "output_type": "execute_result"
    }
   ],
   "source": [
    "state={'messages': [\"What is key and value vector?\"]}\n",
    "supervisor(state)"
   ]
  },
  {
   "cell_type": "code",
   "execution_count": 23,
   "id": "8a31de9c",
   "metadata": {},
   "outputs": [],
   "source": [
    "def router(state: State):\n",
    "    print(\"--Router--\")\n",
    "    last_message = state[\"messages\"][-1]\n",
    "    print(last_message)\n",
    "    \n",
    "    if last_message == \"RAG_CALL\":\n",
    "        return \"RAG_CALL\"\n",
    "    elif last_message == \"LLM_CALL\":\n",
    "        return \"LLM_CALL\"\n",
    "    else:\n",
    "        return \"INTERNET_SEARCH\""
   ]
  },
  {
   "cell_type": "code",
   "execution_count": 24,
   "id": "642d318f",
   "metadata": {},
   "outputs": [],
   "source": [
    "from langchain_core.output_parsers import StrOutputParser"
   ]
  },
  {
   "cell_type": "code",
   "execution_count": 26,
   "id": "b11f259f",
   "metadata": {},
   "outputs": [],
   "source": [
    "def llm_call(state: State):\n",
    "    print(\"--LLM Call--\")\n",
    "    question = state['messages'][0]\n",
    "    prompt = PromptTemplate(\n",
    "        template=\"\"\"\n",
    "        You are a helpful ai assistant. Answer the question based on you capability. if you think you do not know about the question do not give the answer just simply say i do not know the proper answer. Though do not give any hypothetical answer or hallucination response or do not predict the answer. If you are confident enough then provide the answer properly.\\n\n",
    "        the user query is: {question}\n",
    "        \"\"\",\n",
    "        input_variables=[\"question\"]\n",
    "    )\n",
    "    chain = prompt | llm | StrOutputParser()\n",
    "    response = chain.invoke(\n",
    "        {\n",
    "            \"question\": question\n",
    "        }\n",
    "    )\n",
    "    print(response)\n",
    "    return {\n",
    "        \"messages\": [response]\n",
    "    }\n",
    "    "
   ]
  },
  {
   "cell_type": "code",
   "execution_count": 27,
   "id": "42f4f4a6",
   "metadata": {},
   "outputs": [],
   "source": [
    "def internet_search(state: State):\n",
    "    print(\"--Internet Search--\")\n",
    "    question = state['messages'][0]\n",
    "    web_search_content = tavily_search.invoke(question)\n",
    "    prompt = PromptTemplate(\n",
    "        template=\"\"\"\n",
    "        You are a helpful ai assistant who can give answer of the user query based on the web search content. First read the user query and check the web_search_content. If you think web content is not enough for to give the answer of the user query then simply say. No have enough context to give the answer. And below the user query and web_search_content.\\n\\n\n",
    "        the user query is: {question}\\n\\n\n",
    "        the web_search_content: {web_search_content}\\n\n",
    "        \"\"\",\n",
    "        input_variables=[\"question\", \"web_search_content\"]\n",
    "    )\n",
    "    chain = prompt | llm | StrOutputParser()\n",
    "    response = chain.invoke(\n",
    "        {\n",
    "            \"question\": question,\n",
    "            \"web_search_content\": web_search_content\n",
    "        }\n",
    "    )\n",
    "    return {\n",
    "        \"messages\": [response]\n",
    "    }"
   ]
  },
  {
   "cell_type": "code",
   "execution_count": 28,
   "id": "17ac9855",
   "metadata": {},
   "outputs": [],
   "source": [
    "from langchain import hub"
   ]
  },
  {
   "cell_type": "code",
   "execution_count": 29,
   "id": "da3b935b",
   "metadata": {},
   "outputs": [
    {
     "data": {
      "text/plain": [
       "ChatPromptTemplate(input_variables=['context', 'question'], input_types={}, partial_variables={}, metadata={'lc_hub_owner': 'rlm', 'lc_hub_repo': 'rag-prompt', 'lc_hub_commit_hash': '50442af133e61576e74536c6556cefe1fac147cad032f4377b60c436e6cdcb6e'}, messages=[HumanMessagePromptTemplate(prompt=PromptTemplate(input_variables=['context', 'question'], input_types={}, partial_variables={}, template=\"You are an assistant for question-answering tasks. Use the following pieces of retrieved context to answer the question. If you don't know the answer, just say that you don't know. Use three sentences maximum and keep the answer concise.\\nQuestion: {question} \\nContext: {context} \\nAnswer:\"), additional_kwargs={})])"
      ]
     },
     "execution_count": 29,
     "metadata": {},
     "output_type": "execute_result"
    }
   ],
   "source": [
    "prompt = hub.pull(\"rlm/rag-prompt\")\n",
    "prompt"
   ]
  },
  {
   "cell_type": "code",
   "execution_count": 31,
   "id": "5aca5322",
   "metadata": {},
   "outputs": [],
   "source": [
    "def rag_call(state: State):\n",
    "    print(\"--Rag call--\")\n",
    "    question = state['messages'][0]\n",
    "    print(question)\n",
    "    prompt = hub.pull(\"rlm/rag-prompt\")\n",
    "    \n",
    "    print(\"im here-1\")\n",
    "    rag_chain = (\n",
    "        {\n",
    "            \"context\": retriever | format_docs,\n",
    "            \"question\": RunnablePassthrough()\n",
    "        }\n",
    "        | prompt\n",
    "        | llm\n",
    "        | StrOutputParser()\n",
    "    )\n",
    "    print(\"im hare-2\")\n",
    "    response = rag_chain.invoke(question)\n",
    "    print(\"rag-response\", response)\n",
    "    \n",
    "    return {\n",
    "        \"messages\": [response]\n",
    "    }\n",
    "    "
   ]
  },
  {
   "cell_type": "markdown",
   "id": "53f2fafa",
   "metadata": {},
   "source": [
    "## **Validation Node**"
   ]
  },
  {
   "cell_type": "code",
   "execution_count": 32,
   "id": "79b26cbd",
   "metadata": {},
   "outputs": [],
   "source": [
    "class validationOutput(BaseModel):\n",
    "    validation_response: Annotated[Literal[\"yes\", \"no\"], Field(description=\"analysis the user question and the output. If you think the output is correct based on the question then say 'yes' otherwise say 'no' if the answer is not correct based on the user question.\")]"
   ]
  },
  {
   "cell_type": "code",
   "execution_count": 33,
   "id": "6b7752d5",
   "metadata": {},
   "outputs": [],
   "source": [
    "validate_parser = PydanticOutputParser(pydantic_object=validationOutput)"
   ]
  },
  {
   "cell_type": "code",
   "execution_count": 34,
   "id": "4482a63d",
   "metadata": {},
   "outputs": [],
   "source": [
    "def validation_node(state: State):\n",
    "    print(\"---validation---\")\n",
    "    question = state['messages'][0]\n",
    "    answer = state['messages'][-1]\n",
    "    \n",
    "    print(question, answer)\n",
    "    validation_prompt = PromptTemplate(\n",
    "        template=\"\"\"Think you are evaluator, your task is validate the output of the user question. Example if the answer is correct based on the user question then simple say 'yes', otherwise say 'no' is the answer is not relevant to the question. Think very carefully to validation time. Below the user question and the answer of the question.\n",
    "        the user question is : {question}\\n\\n and the output answer of the question is: {answer}.\\n\\n Most important is must be follow the output format instruction: {format_instruction}\"\"\",\n",
    "        input_variables=[\"question\", \"answer\"],\n",
    "        partial_variables={\n",
    "            \"format_instruction\": validate_parser.get_format_instructions()\n",
    "        }\n",
    "    )\n",
    "    \n",
    "    validation_chain = validation_prompt | llm | validate_parser\n",
    "    \n",
    "    result = validation_chain.invoke(\n",
    "        {\n",
    "            \"question\": question,\n",
    "            \"answer\": answer\n",
    "        }\n",
    "    )\n",
    "    print(\"im hare 3\")\n",
    "    print(result.validation_response)\n",
    "    return {\n",
    "        \"messages\": [result.validation_response]\n",
    "    }"
   ]
  },
  {
   "cell_type": "code",
   "execution_count": 35,
   "id": "42cb64c6",
   "metadata": {},
   "outputs": [],
   "source": [
    "class RewriteUserQuestion(BaseModel):\n",
    "    rewrite_question: Annotated[str, Field(description=\"Rewrite the user query for better output generation. question should be in one sentence.\")]"
   ]
  },
  {
   "cell_type": "code",
   "execution_count": 36,
   "id": "e7ed2661",
   "metadata": {},
   "outputs": [],
   "source": [
    "rewrite_parser = PydanticOutputParser(pydantic_object=RewriteUserQuestion)"
   ]
  },
  {
   "cell_type": "code",
   "execution_count": 37,
   "id": "4c894672",
   "metadata": {},
   "outputs": [],
   "source": [
    "def rewrite_query(state: State):\n",
    "    question = state['messages'][0]\n",
    "    \n",
    "    rewrite_prompt = PromptTemplate(\n",
    "        \"\"\"You are a helpful ai assistant and your task is rewrite the user input query for better response generation. Example like if user query is bad then occurred problem such as data extraction from vector store or internet search. So rewrite the query for best output generation.\\n\n",
    "        This is user question: {question}. and must be follow the format instruction to produce the output. The format instruction is: {format_instruction}\"\"\",\n",
    "        input_variables=[\"question\"],\n",
    "        partial_variables={\n",
    "            \"format_instruction\": rewrite_parser.get_format_instructions()\n",
    "        }\n",
    "    )\n",
    "    \n",
    "    rewrite_chain = rewrite_prompt | llm | rewrite_parser\n",
    "    new_question = rewrite_chain.invoke(\n",
    "        {\n",
    "            \"question\": question\n",
    "        }\n",
    "    )\n",
    "    state[\"messages\"][0] = new_question.rewrite_question\n",
    "    print(state[\"messages\"][0])\n",
    "    \n",
    "    "
   ]
  },
  {
   "cell_type": "code",
   "execution_count": 38,
   "id": "a8a25015",
   "metadata": {},
   "outputs": [],
   "source": [
    "from langgraph.graph import END\n",
    "\n",
    "def validation_router(state: State):\n",
    "    validation_result = state['messages'][-1]\n",
    "    \n",
    "    if validation_result == \"yes\":\n",
    "        return \"PASS\"\n",
    "    else:\n",
    "        return \"FAILED\""
   ]
  },
  {
   "cell_type": "markdown",
   "id": "dd32270d",
   "metadata": {},
   "source": [
    "## Build the Graph"
   ]
  },
  {
   "cell_type": "code",
   "execution_count": 39,
   "id": "04e9a5eb",
   "metadata": {},
   "outputs": [
    {
     "data": {
      "image/png": "[encoded data removed]",
      "text/plain": [
       "<IPython.core.display.Image object>"
      ]
     },
     "metadata": {},
     "output_type": "display_data"
    }
   ],
   "source": [
    "from langgraph.graph import START, StateGraph\n",
    "from IPython.display import display, Image\n",
    "\n",
    "workflow = StateGraph(State)\n",
    "\n",
    "## Node\n",
    "workflow.add_node(\"supervisor\", supervisor)\n",
    "workflow.add_node(\"LLM\", llm_call)\n",
    "workflow.add_node(\"RAG\", rag_call)\n",
    "workflow.add_node(\"INTERNET\", internet_search)\n",
    "workflow.add_node(\"VALIDATION\", validation_node)\n",
    "workflow.add_node(\"REwrite_QUERY\", rewrite_query)\n",
    "\n",
    "## Edges\n",
    "workflow.add_edge(START, \"supervisor\")\n",
    "workflow.add_conditional_edges(\n",
    "    \"supervisor\",\n",
    "    router,\n",
    "    {\n",
    "        \"INTERNET_SEARCH\": \"INTERNET\",\n",
    "        \"LLM_CALL\": \"LLM\",\n",
    "        \"RAG_CALL\": \"RAG\"\n",
    "    }\n",
    ")\n",
    "workflow.add_edge(\"LLM\", \"VALIDATION\")\n",
    "workflow.add_edge(\"RAG\", \"VALIDATION\")\n",
    "workflow.add_edge(\"INTERNET\", \"VALIDATION\")\n",
    "workflow.add_conditional_edges(\n",
    "    \"VALIDATION\",\n",
    "    validation_router,\n",
    "    {\n",
    "        \"PASS\": END,\n",
    "        \"FAILED\": \"REwrite_QUERY\"\n",
    "    }\n",
    ")\n",
    "workflow.add_edge(\"REwrite_QUERY\", \"supervisor\")\n",
    "\n",
    "graph = workflow.compile()\n",
    "\n",
    "display(Image(graph.get_graph().draw_mermaid_png()))"
   ]
  },
  {
   "cell_type": "markdown",
   "id": "43403113",
   "metadata": {},
   "source": [
    "# ***Output Testing***"
   ]
  },
  {
   "cell_type": "code",
   "execution_count": 40,
   "id": "7262cc4e",
   "metadata": {},
   "outputs": [
    {
     "name": "stdout",
     "output_type": "stream",
     "text": [
      "What is key, query, and value vector?\n",
      "RAG_CALL The user query is directly related to concepts (key, query, and value vectors) discussed in the Transformer paper 'Attention Is All You Need'.\n",
      "--Router--\n",
      "RAG_CALL\n",
      "--Rag call--\n",
      "What is key, query, and value vector?\n",
      "im here-1\n"
     ]
    },
    {
     "ename": "NameError",
     "evalue": "name 'retriever' is not defined",
     "output_type": "error",
     "traceback": [
      "\u001b[31m---------------------------------------------------------------------------\u001b[39m",
      "\u001b[31mNameError\u001b[39m                                 Traceback (most recent call last)",
      "\u001b[36mCell\u001b[39m\u001b[36m \u001b[39m\u001b[32mIn[40]\u001b[39m\u001b[32m, line 1\u001b[39m\n\u001b[32m----> \u001b[39m\u001b[32m1\u001b[39m \u001b[43mgraph\u001b[49m\u001b[43m.\u001b[49m\u001b[43minvoke\u001b[49m\u001b[43m(\u001b[49m\n\u001b[32m      2\u001b[39m \u001b[43m    \u001b[49m\u001b[43m{\u001b[49m\n\u001b[32m      3\u001b[39m \u001b[43m        \u001b[49m\u001b[33;43m\"\u001b[39;49m\u001b[33;43mmessages\u001b[39;49m\u001b[33;43m\"\u001b[39;49m\u001b[43m:\u001b[49m\u001b[43m \u001b[49m\u001b[43m[\u001b[49m\u001b[33;43m\"\u001b[39;49m\u001b[33;43mWhat is key, query, and value vector?\u001b[39;49m\u001b[33;43m\"\u001b[39;49m\u001b[43m]\u001b[49m\n\u001b[32m      4\u001b[39m \u001b[43m    \u001b[49m\u001b[43m}\u001b[49m\n\u001b[32m      5\u001b[39m \u001b[43m)\u001b[49m\n",
      "\u001b[36mFile \u001b[39m\u001b[32m~/Desktop/Github@MN/AgenticAi/venv/lib/python3.12/site-packages/langgraph/pregel/__init__.py:2719\u001b[39m, in \u001b[36mPregel.invoke\u001b[39m\u001b[34m(self, input, config, stream_mode, output_keys, interrupt_before, interrupt_after, checkpoint_during, debug, **kwargs)\u001b[39m\n\u001b[32m   2716\u001b[39m chunks: \u001b[38;5;28mlist\u001b[39m[Union[\u001b[38;5;28mdict\u001b[39m[\u001b[38;5;28mstr\u001b[39m, Any], Any]] = []\n\u001b[32m   2717\u001b[39m interrupts: \u001b[38;5;28mlist\u001b[39m[Interrupt] = []\n\u001b[32m-> \u001b[39m\u001b[32m2719\u001b[39m \u001b[43m\u001b[49m\u001b[38;5;28;43;01mfor\u001b[39;49;00m\u001b[43m \u001b[49m\u001b[43mchunk\u001b[49m\u001b[43m \u001b[49m\u001b[38;5;129;43;01min\u001b[39;49;00m\u001b[43m \u001b[49m\u001b[38;5;28;43mself\u001b[39;49m\u001b[43m.\u001b[49m\u001b[43mstream\u001b[49m\u001b[43m(\u001b[49m\n\u001b[32m   2720\u001b[39m \u001b[43m    \u001b[49m\u001b[38;5;28;43minput\u001b[39;49m\u001b[43m,\u001b[49m\n\u001b[32m   2721\u001b[39m \u001b[43m    \u001b[49m\u001b[43mconfig\u001b[49m\u001b[43m,\u001b[49m\n\u001b[32m   2722\u001b[39m \u001b[43m    \u001b[49m\u001b[43mstream_mode\u001b[49m\u001b[43m=\u001b[49m\u001b[43mstream_mode\u001b[49m\u001b[43m,\u001b[49m\n\u001b[32m   2723\u001b[39m \u001b[43m    \u001b[49m\u001b[43moutput_keys\u001b[49m\u001b[43m=\u001b[49m\u001b[43moutput_keys\u001b[49m\u001b[43m,\u001b[49m\n\u001b[32m   2724\u001b[39m \u001b[43m    \u001b[49m\u001b[43minterrupt_before\u001b[49m\u001b[43m=\u001b[49m\u001b[43minterrupt_before\u001b[49m\u001b[43m,\u001b[49m\n\u001b[32m   2725\u001b[39m \u001b[43m    \u001b[49m\u001b[43minterrupt_after\u001b[49m\u001b[43m=\u001b[49m\u001b[43minterrupt_after\u001b[49m\u001b[43m,\u001b[49m\n\u001b[32m   2726\u001b[39m \u001b[43m    \u001b[49m\u001b[43mcheckpoint_during\u001b[49m\u001b[43m=\u001b[49m\u001b[43mcheckpoint_during\u001b[49m\u001b[43m,\u001b[49m\n\u001b[32m   2727\u001b[39m \u001b[43m    \u001b[49m\u001b[43mdebug\u001b[49m\u001b[43m=\u001b[49m\u001b[43mdebug\u001b[49m\u001b[43m,\u001b[49m\n\u001b[32m   2728\u001b[39m \u001b[43m    \u001b[49m\u001b[43m*\u001b[49m\u001b[43m*\u001b[49m\u001b[43mkwargs\u001b[49m\u001b[43m,\u001b[49m\n\u001b[32m   2729\u001b[39m \u001b[43m\u001b[49m\u001b[43m)\u001b[49m\u001b[43m:\u001b[49m\n\u001b[32m   2730\u001b[39m \u001b[43m    \u001b[49m\u001b[38;5;28;43;01mif\u001b[39;49;00m\u001b[43m \u001b[49m\u001b[43mstream_mode\u001b[49m\u001b[43m \u001b[49m\u001b[43m==\u001b[49m\u001b[43m \u001b[49m\u001b[33;43m\"\u001b[39;49m\u001b[33;43mvalues\u001b[39;49m\u001b[33;43m\"\u001b[39;49m\u001b[43m:\u001b[49m\n\u001b[32m   2731\u001b[39m \u001b[43m        \u001b[49m\u001b[38;5;28;43;01mif\u001b[39;49;00m\u001b[43m \u001b[49m\u001b[43m(\u001b[49m\n\u001b[32m   2732\u001b[39m \u001b[43m            \u001b[49m\u001b[38;5;28;43misinstance\u001b[39;49m\u001b[43m(\u001b[49m\u001b[43mchunk\u001b[49m\u001b[43m,\u001b[49m\u001b[43m \u001b[49m\u001b[38;5;28;43mdict\u001b[39;49m\u001b[43m)\u001b[49m\n\u001b[32m   2733\u001b[39m \u001b[43m            \u001b[49m\u001b[38;5;129;43;01mand\u001b[39;49;00m\u001b[43m \u001b[49m\u001b[43m(\u001b[49m\u001b[43mints\u001b[49m\u001b[43m \u001b[49m\u001b[43m:=\u001b[49m\u001b[43m \u001b[49m\u001b[43mchunk\u001b[49m\u001b[43m.\u001b[49m\u001b[43mget\u001b[49m\u001b[43m(\u001b[49m\u001b[43mINTERRUPT\u001b[49m\u001b[43m)\u001b[49m\u001b[43m)\u001b[49m\u001b[43m \u001b[49m\u001b[38;5;129;43;01mis\u001b[39;49;00m\u001b[43m \u001b[49m\u001b[38;5;129;43;01mnot\u001b[39;49;00m\u001b[43m \u001b[49m\u001b[38;5;28;43;01mNone\u001b[39;49;00m\n\u001b[32m   2734\u001b[39m \u001b[43m        \u001b[49m\u001b[43m)\u001b[49m\u001b[43m:\u001b[49m\n",
      "\u001b[36mFile \u001b[39m\u001b[32m~/Desktop/Github@MN/AgenticAi/venv/lib/python3.12/site-packages/langgraph/pregel/__init__.py:2436\u001b[39m, in \u001b[36mPregel.stream\u001b[39m\u001b[34m(self, input, config, stream_mode, output_keys, interrupt_before, interrupt_after, checkpoint_during, debug, subgraphs)\u001b[39m\n\u001b[32m   2434\u001b[39m         \u001b[38;5;28;01mfor\u001b[39;00m task \u001b[38;5;129;01min\u001b[39;00m loop.match_cached_writes():\n\u001b[32m   2435\u001b[39m             loop.output_writes(task.id, task.writes, cached=\u001b[38;5;28;01mTrue\u001b[39;00m)\n\u001b[32m-> \u001b[39m\u001b[32m2436\u001b[39m \u001b[43m        \u001b[49m\u001b[38;5;28;43;01mfor\u001b[39;49;00m\u001b[43m \u001b[49m\u001b[43m_\u001b[49m\u001b[43m \u001b[49m\u001b[38;5;129;43;01min\u001b[39;49;00m\u001b[43m \u001b[49m\u001b[43mrunner\u001b[49m\u001b[43m.\u001b[49m\u001b[43mtick\u001b[49m\u001b[43m(\u001b[49m\n\u001b[32m   2437\u001b[39m \u001b[43m            \u001b[49m\u001b[43m[\u001b[49m\u001b[43mt\u001b[49m\u001b[43m \u001b[49m\u001b[38;5;28;43;01mfor\u001b[39;49;00m\u001b[43m \u001b[49m\u001b[43mt\u001b[49m\u001b[43m \u001b[49m\u001b[38;5;129;43;01min\u001b[39;49;00m\u001b[43m \u001b[49m\u001b[43mloop\u001b[49m\u001b[43m.\u001b[49m\u001b[43mtasks\u001b[49m\u001b[43m.\u001b[49m\u001b[43mvalues\u001b[49m\u001b[43m(\u001b[49m\u001b[43m)\u001b[49m\u001b[43m \u001b[49m\u001b[38;5;28;43;01mif\u001b[39;49;00m\u001b[43m \u001b[49m\u001b[38;5;129;43;01mnot\u001b[39;49;00m\u001b[43m \u001b[49m\u001b[43mt\u001b[49m\u001b[43m.\u001b[49m\u001b[43mwrites\u001b[49m\u001b[43m]\u001b[49m\u001b[43m,\u001b[49m\n\u001b[32m   2438\u001b[39m \u001b[43m            \u001b[49m\u001b[43mtimeout\u001b[49m\u001b[43m=\u001b[49m\u001b[38;5;28;43mself\u001b[39;49m\u001b[43m.\u001b[49m\u001b[43mstep_timeout\u001b[49m\u001b[43m,\u001b[49m\n\u001b[32m   2439\u001b[39m \u001b[43m            \u001b[49m\u001b[43mget_waiter\u001b[49m\u001b[43m=\u001b[49m\u001b[43mget_waiter\u001b[49m\u001b[43m,\u001b[49m\n\u001b[32m   2440\u001b[39m \u001b[43m            \u001b[49m\u001b[43mschedule_task\u001b[49m\u001b[43m=\u001b[49m\u001b[43mloop\u001b[49m\u001b[43m.\u001b[49m\u001b[43maccept_push\u001b[49m\u001b[43m,\u001b[49m\n\u001b[32m   2441\u001b[39m \u001b[43m        \u001b[49m\u001b[43m)\u001b[49m\u001b[43m:\u001b[49m\n\u001b[32m   2442\u001b[39m \u001b[43m            \u001b[49m\u001b[38;5;66;43;03m# emit output\u001b[39;49;00m\n\u001b[32m   2443\u001b[39m \u001b[43m            \u001b[49m\u001b[38;5;28;43;01myield from\u001b[39;49;00m\u001b[43m \u001b[49m\u001b[43moutput\u001b[49m\u001b[43m(\u001b[49m\u001b[43m)\u001b[49m\n\u001b[32m   2444\u001b[39m \u001b[38;5;66;03m# emit output\u001b[39;00m\n",
      "\u001b[36mCell\u001b[39m\u001b[36m \u001b[39m\u001b[32mIn[31]\u001b[39m\u001b[32m, line 10\u001b[39m, in \u001b[36mrag_call\u001b[39m\u001b[34m(state)\u001b[39m\n\u001b[32m      5\u001b[39m prompt = hub.pull(\u001b[33m\"\u001b[39m\u001b[33mrlm/rag-prompt\u001b[39m\u001b[33m\"\u001b[39m)\n\u001b[32m      7\u001b[39m \u001b[38;5;28mprint\u001b[39m(\u001b[33m\"\u001b[39m\u001b[33mim here-1\u001b[39m\u001b[33m\"\u001b[39m)\n\u001b[32m      8\u001b[39m rag_chain = (\n\u001b[32m      9\u001b[39m     {\n\u001b[32m---> \u001b[39m\u001b[32m10\u001b[39m         \u001b[33m\"\u001b[39m\u001b[33mcontext\u001b[39m\u001b[33m\"\u001b[39m: \u001b[43mretriever\u001b[49m | format_docs,\n\u001b[32m     11\u001b[39m         \u001b[33m\"\u001b[39m\u001b[33mquestion\u001b[39m\u001b[33m\"\u001b[39m: RunnablePassthrough()\n\u001b[32m     12\u001b[39m     }\n\u001b[32m     13\u001b[39m     | prompt\n\u001b[32m     14\u001b[39m     | llm\n\u001b[32m     15\u001b[39m     | StrOutputParser()\n\u001b[32m     16\u001b[39m )\n\u001b[32m     17\u001b[39m \u001b[38;5;28mprint\u001b[39m(\u001b[33m\"\u001b[39m\u001b[33mim hare-2\u001b[39m\u001b[33m\"\u001b[39m)\n\u001b[32m     18\u001b[39m response = rag_chain.invoke(question)\n",
      "\u001b[31mNameError\u001b[39m: name 'retriever' is not defined",
      "During task with name 'RAG' and id 'cc2634a6-f5ee-da1e-7135-b72d998faedf'"
     ]
    }
   ],
   "source": [
    "graph.invoke(\n",
    "    {\n",
    "        \"messages\": [\"What is key, query, and value vector?\"]\n",
    "    }\n",
    ")"
   ]
  },
  {
   "cell_type": "code",
   "execution_count": null,
   "id": "5ef1f7fc",
   "metadata": {},
   "outputs": [],
   "source": [
    "graph.invoke(\n",
    "    {\n",
    "        \"messages\": [\"What is the current weather of Dhaka?\"]\n",
    "    }\n",
    ")"
   ]
  },
  {
   "cell_type": "code",
   "execution_count": null,
   "id": "227fb38f",
   "metadata": {},
   "outputs": [],
   "source": [
    "graph.invoke(\n",
    "    {\n",
    "        \"messages\": [\"What i should learn Agentic AI?\"]\n",
    "    }\n",
    ")"
   ]
  },
  {
   "cell_type": "code",
   "execution_count": null,
   "id": "22308442",
   "metadata": {},
   "outputs": [],
   "source": []
  }
 ],
 "metadata": {
  "kernelspec": {
   "display_name": "Python 3",
   "language": "python",
   "name": "python3"
  },
  "language_info": {
   "codemirror_mode": {
    "name": "ipython",
    "version": 3
   },
   "file_extension": ".py",
   "mimetype": "text/x-python",
   "name": "python",
   "nbconvert_exporter": "python",
   "pygments_lexer": "ipython3",
   "version": "3.12.11"
  }
 },
 "nbformat": 4,
 "nbformat_minor": 5
}
