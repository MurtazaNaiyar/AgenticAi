{
 "cells": [
  {
   "cell_type": "code",
   "execution_count": 5,
   "id": "e2f86581",
   "metadata": {},
   "outputs": [],
   "source": [
    "from dotenv import load_dotenv\n",
    "import os\n",
    "load_dotenv()\n",
    "os.environ[\"ASTRA_DB_API_ENDPOINT\"] = os.getenv(\"ASTRA_DB_API_ENDPOINT\")\n",
    "os.environ[\"ASTRA_DB_APPLICATION_TOKEN\"] = os.getenv(\"ASTRA_DB_APPLICATION_TOKEN\")"
   ]
  },
  {
   "cell_type": "code",
   "execution_count": null,
   "id": "604aea3c",
   "metadata": {},
   "outputs": [],
   "source": []
  },
  {
   "cell_type": "code",
   "execution_count": 2,
   "id": "b23dc706",
   "metadata": {},
   "outputs": [
    {
     "name": "stderr",
     "output_type": "stream",
     "text": [
      "C:\\Users\\Lenovo\\AppData\\Roaming\\Python\\Python312\\site-packages\\tqdm\\auto.py:21: TqdmWarning: IProgress not found. Please update jupyter and ipywidgets. See https://ipywidgets.readthedocs.io/en/stable/user_install.html\n",
      "  from .autonotebook import tqdm as notebook_tqdm\n"
     ]
    }
   ],
   "source": [
    "from langchain_huggingface import HuggingFaceEmbeddings\n",
    "\n",
    "embeddings = HuggingFaceEmbeddings(model_name=\"sentence-transformers/all-mpnet-base-v2\")"
   ]
  },
  {
   "cell_type": "code",
   "execution_count": null,
   "id": "93ad0f9d",
   "metadata": {},
   "outputs": [],
   "source": [
    "from langchain_astradb import AstraDBVectorStore\n",
    "\n",
    "\n",
    "\n",
    "vector_store_explicit_embeddings = AstraDBVectorStore(\n",
    "    collection_name=\"astra_vector_langchain\",\n",
    "    embedding=embeddings,\n",
    "    api_endpoint=os.getenv(\"ASTRA_DB_API_ENDPOINT\"),\n",
    "    token=os.getenv(\"ASTRA_DB_APPLICATION_TOKEN\"),\n",
    "    namespace=None,\n",
    "    \n",
    ")"
   ]
  },
  {
   "cell_type": "code",
   "execution_count": null,
   "id": "f4f20446",
   "metadata": {},
   "outputs": [],
   "source": [
    "# If desired, uncomment a different line here:\n",
    "\n",
    "vector_store = vector_store_explicit_embeddings"
   ]
  },
  {
   "cell_type": "code",
   "execution_count": 10,
   "id": "9a86bf21",
   "metadata": {},
   "outputs": [
    {
     "data": {
      "text/plain": [
       "['entry_00',\n",
       " 'entry_01',\n",
       " 'entry_02',\n",
       " 'entry_03',\n",
       " 'entry_04',\n",
       " 'entry_05',\n",
       " 'entry_06',\n",
       " 'entry_07',\n",
       " 'entry_08',\n",
       " 'entry_09',\n",
       " 'entry_10']"
      ]
     },
     "execution_count": 10,
     "metadata": {},
     "output_type": "execute_result"
    }
   ],
   "source": [
    "from langchain_core.documents import Document\n",
    "\n",
    "documents_to_insert = [\n",
    "    Document(\n",
    "        page_content=\"ZYX, just another tool in the world, is actually my agent-based superhero\",\n",
    "        metadata={\"source\": \"tweet\"},\n",
    "        id=\"entry_00\",\n",
    "    ),\n",
    "    Document(\n",
    "        page_content=\"I had chocolate chip pancakes and scrambled eggs \"\n",
    "        \"for breakfast this morning.\",\n",
    "        metadata={\"source\": \"tweet\"},\n",
    "        id=\"entry_01\",\n",
    "    ),\n",
    "    Document(\n",
    "        page_content=\"The weather forecast for tomorrow is cloudy and \"\n",
    "        \"overcast, with a high of 62 degrees.\",\n",
    "        metadata={\"source\": \"news\"},\n",
    "        id=\"entry_02\",\n",
    "    ),\n",
    "    Document(\n",
    "        page_content=\"Building an exciting new project with LangChain \"\n",
    "        \"- come check it out!\",\n",
    "        metadata={\"source\": \"tweet\"},\n",
    "        id=\"entry_03\",\n",
    "    ),\n",
    "    Document(\n",
    "        page_content=\"Robbers broke into the city bank and stole \"\n",
    "        \"$1 million in cash.\",\n",
    "        metadata={\"source\": \"news\"},\n",
    "        id=\"entry_04\",\n",
    "    ),\n",
    "    Document(\n",
    "        page_content=\"Thanks to her sophisticated language skills, the agent \"\n",
    "        \"managed to extract strategic information all right.\",\n",
    "        metadata={\"source\": \"tweet\"},\n",
    "        id=\"entry_05\",\n",
    "    ),\n",
    "    Document(\n",
    "        page_content=\"Is the new iPhone worth the price? Read this \"\n",
    "        \"review to find out.\",\n",
    "        metadata={\"source\": \"website\"},\n",
    "        id=\"entry_06\",\n",
    "    ),\n",
    "    Document(\n",
    "        page_content=\"The top 10 soccer players in the world right now.\",\n",
    "        metadata={\"source\": \"website\"},\n",
    "        id=\"entry_07\",\n",
    "    ),\n",
    "    Document(\n",
    "        page_content=\"LangGraph is the best framework for building stateful, \"\n",
    "        \"agentic applications!\",\n",
    "        metadata={\"source\": \"tweet\"},\n",
    "        id=\"entry_08\",\n",
    "    ),\n",
    "    Document(\n",
    "        page_content=\"The stock market is down 500 points today due to \"\n",
    "        \"fears of a recession.\",\n",
    "        metadata={\"source\": \"news\"},\n",
    "        id=\"entry_09\",\n",
    "    ),\n",
    "    Document(\n",
    "        page_content=\"I have a bad feeling I am going to get deleted :(\",\n",
    "        metadata={\"source\": \"tweet\"},\n",
    "        id=\"entry_10\",\n",
    "    ),\n",
    "]\n",
    "\n",
    "\n",
    "vector_store.add_documents(documents=documents_to_insert)"
   ]
  },
  {
   "cell_type": "code",
   "execution_count": 11,
   "id": "1fd83d48",
   "metadata": {},
   "outputs": [
    {
     "data": {
      "text/plain": [
       "True"
      ]
     },
     "execution_count": 11,
     "metadata": {},
     "output_type": "execute_result"
    }
   ],
   "source": [
    "vector_store.delete(ids=[\"entry_10\", \"entry_02\"])"
   ]
  },
  {
   "cell_type": "code",
   "execution_count": 12,
   "id": "2a8b9f68",
   "metadata": {},
   "outputs": [
    {
     "name": "stdout",
     "output_type": "stream",
     "text": [
      "* \"Building an exciting new project with LangChain - come check it out!\", metadata={'source': 'tweet'}\n",
      "* \"LangGraph is the best framework for building stateful, agentic applications!\", metadata={'source': 'tweet'}\n",
      "* \"Thanks to her sophisticated language skills, the agent managed to extract strategic information all right.\", metadata={'source': 'tweet'}\n"
     ]
    }
   ],
   "source": [
    "results = vector_store.similarity_search(\n",
    "    \"LangChain provides abstractions to make working with LLMs easy\",\n",
    "    k=3,\n",
    "    filter={\"source\": \"tweet\"},\n",
    ")\n",
    "for res in results:\n",
    "    print(f'* \"{res.page_content}\", metadata={res.metadata}')"
   ]
  },
  {
   "cell_type": "code",
   "execution_count": 13,
   "id": "4a7e6bd7",
   "metadata": {},
   "outputs": [
    {
     "data": {
      "text/plain": [
       "[Document(id='entry_03', metadata={'source': 'tweet'}, page_content='Building an exciting new project with LangChain - come check it out!'),\n",
       " Document(id='entry_08', metadata={'source': 'tweet'}, page_content='LangGraph is the best framework for building stateful, agentic applications!'),\n",
       " Document(id='entry_05', metadata={'source': 'tweet'}, page_content='Thanks to her sophisticated language skills, the agent managed to extract strategic information all right.')]"
      ]
     },
     "execution_count": 13,
     "metadata": {},
     "output_type": "execute_result"
    }
   ],
   "source": [
    "results"
   ]
  },
  {
   "cell_type": "code",
   "execution_count": 14,
   "id": "e3e9487c",
   "metadata": {},
   "outputs": [
    {
     "name": "stdout",
     "output_type": "stream",
     "text": [
      "* [SIM=0.82] \"Building an exciting new project with LangChain - come check it out!\", metadata={'source': 'tweet'}\n",
      "* [SIM=0.77] \"LangGraph is the best framework for building stateful, agentic applications!\", metadata={'source': 'tweet'}\n",
      "* [SIM=0.63] \"Thanks to her sophisticated language skills, the agent managed to extract strategic information all right.\", metadata={'source': 'tweet'}\n"
     ]
    }
   ],
   "source": [
    "results = vector_store.similarity_search_with_score(\n",
    "    \"LangChain provides abstractions to make working with LLMs easy\",\n",
    "    k=3,\n",
    "    filter={\"source\": \"tweet\"},\n",
    ")\n",
    "for res, score in results:\n",
    "    print(f'* [SIM={score:.2f}] \"{res.page_content}\", metadata={res.metadata}')"
   ]
  },
  {
   "cell_type": "code",
   "execution_count": 17,
   "id": "9204d10e",
   "metadata": {},
   "outputs": [
    {
     "data": {
      "text/plain": [
       "[Document(id='entry_04', metadata={'source': 'news'}, page_content='Robbers broke into the city bank and stole $1 million in cash.')]"
      ]
     },
     "execution_count": 17,
     "metadata": {},
     "output_type": "execute_result"
    }
   ],
   "source": [
    "retriever = vector_store.as_retriever(\n",
    "    search_type=\"similarity_score_threshold\",\n",
    "    search_kwargs={\"k\": 1, \"score_threshold\": 0.5},\n",
    ")\n",
    "retriever.invoke(\"Stealing from the bank is a crime\", filter={\"source\": \"news\"})"
   ]
  },
  {
   "cell_type": "code",
   "execution_count": null,
   "id": "71a0d1fd",
   "metadata": {},
   "outputs": [],
   "source": []
  }
 ],
 "metadata": {
  "kernelspec": {
   "display_name": "Python 3",
   "language": "python",
   "name": "python3"
  },
  "language_info": {
   "codemirror_mode": {
    "name": "ipython",
    "version": 3
   },
   "file_extension": ".py",
   "mimetype": "text/x-python",
   "name": "python",
   "nbconvert_exporter": "python",
   "pygments_lexer": "ipython3",
   "version": "3.12.0"
  }
 },
 "nbformat": 4,
 "nbformat_minor": 5
}
